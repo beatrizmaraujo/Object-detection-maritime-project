{
 "cells": [
  {
   "cell_type": "code",
   "execution_count": 1,
   "id": "21629651",
   "metadata": {},
   "outputs": [],
   "source": [
    "import numpy as np\n",
    "import os\n",
    "import time\n",
    "import cv2\n",
    "import pixellib\n",
    "from pixellib.instance import instance_segmentation\n",
    "#segment_image = instance_segmentation()"
   ]
  },
  {
   "cell_type": "code",
   "execution_count": 2,
   "id": "7cbcbbfb",
   "metadata": {},
   "outputs": [
    {
     "name": "stdout",
     "output_type": "stream",
     "text": [
      "10\n"
     ]
    }
   ],
   "source": [
    "#segment_image.load_model(\"mask_rcnn_coco.h5\")\n",
    "\n",
    "from tkinter import Tcl\n",
    "PATH_TO_TEST_IMAGES_DIR = 'D:/Classes/test/eduardo'\n",
    "x = os.listdir(PATH_TO_TEST_IMAGES_DIR)\n",
    "sort = Tcl().call('lsort', '-dict', x)\n",
    "TEST_IMAGES = [os.path.join(PATH_TO_TEST_IMAGES_DIR ,img) for img in (sort)]\n",
    "\n",
    "n = 0\n",
    "# select only 50 for testing time!\n",
    "TEST_IMAGES = TEST_IMAGES[0+n:10]\n",
    "print(len(TEST_IMAGES))\n",
    "\n",
    "# Size, in inches, of the output images.\n",
    "IMAGE_SIZE = (12, 8)\n",
    "namessplit=[]\n",
    "\n",
    "for i in range(0,len(TEST_IMAGES)):\n",
    "    namessplit.append((sort[i+n].split('.'))[0])   \n",
    "    "
   ]
  },
  {
   "cell_type": "code",
   "execution_count": 3,
   "id": "b13eeff8",
   "metadata": {},
   "outputs": [],
   "source": [
    "#segment_image.load_model(\"mask_rcnn_coco.h5\")"
   ]
  },
  {
   "cell_type": "code",
   "execution_count": 4,
   "id": "290c35c4",
   "metadata": {},
   "outputs": [],
   "source": [
    "#instance_seg = semantic_segmentation()\n",
    "#instance_seg.load_pascalvoc_model(\"deeplabv3_xception_tf_dim_ordering_tf_kernels.h5\") "
   ]
  },
  {
   "cell_type": "code",
   "execution_count": 5,
   "id": "6f6eeccf",
   "metadata": {},
   "outputs": [],
   "source": [
    "instance_seg = instance_segmentation()"
   ]
  },
  {
   "cell_type": "code",
   "execution_count": 6,
   "id": "4267c4fd",
   "metadata": {},
   "outputs": [
    {
     "name": "stdout",
     "output_type": "stream",
     "text": [
      "WARNING:tensorflow:From C:\\Users\\cdghub\\Anaconda3\\envs\\Beatriz_new\\lib\\site-packages\\tensorflow\\python\\ops\\array_ops.py:5049: calling gather (from tensorflow.python.ops.array_ops) with validate_indices is deprecated and will be removed in a future version.\n",
      "Instructions for updating:\n",
      "The `validate_indices` argument has no effect. Indices are always validated on CPU and never validated on GPU.\n",
      "WARNING:tensorflow:From C:\\Users\\cdghub\\Anaconda3\\envs\\Beatriz_new\\lib\\site-packages\\tensorflow\\python\\util\\deprecation.py:602: calling map_fn_v2 (from tensorflow.python.ops.map_fn) with dtype is deprecated and will be removed in a future version.\n",
      "Instructions for updating:\n",
      "Use fn_output_signature instead\n"
     ]
    }
   ],
   "source": [
    "instance_seg.load_model(\"mask_rcnn_coco.h5\", confidence = 0.7)"
   ]
  },
  {
   "cell_type": "code",
   "execution_count": 7,
   "id": "d4125bfd",
   "metadata": {
    "scrolled": true
   },
   "outputs": [
    {
     "name": "stderr",
     "output_type": "stream",
     "text": [
      "C:\\Users\\cdghub\\Anaconda3\\envs\\Beatriz_new\\lib\\site-packages\\tensorflow\\python\\keras\\engine\\training.py:2426: UserWarning: `Model.state_updates` will be removed in a future version. This property should not be used in TensorFlow 2.0, as `updates` are applied automatically.\n",
      "  warnings.warn('`Model.state_updates` will be removed in a future version. '\n"
     ]
    },
    {
     "name": "stdout",
     "output_type": "stream",
     "text": [
      "Processed image saved successfully in your current working directory.\n",
      "Processed image saved successfully in your current working directory.\n",
      "Processed image saved successfully in your current working directory.\n",
      "Processed image saved successfully in your current working directory.\n",
      "Processed image saved successfully in your current working directory.\n",
      "Processed image saved successfully in your current working directory.\n",
      "Processed image saved successfully in your current working directory.\n",
      "Processed image saved successfully in your current working directory.\n",
      "Processed image saved successfully in your current working directory.\n",
      "Processed image saved successfully in your current working directory.\n"
     ]
    }
   ],
   "source": [
    "# load images\n",
    "images = []\n",
    "start = time.time()\n",
    "for i, image_path in enumerate(TEST_IMAGES):\n",
    "    \n",
    "    #instance_seg.segmentImage(image_path, output_image_name = (\"teste/{}.jpg\".format(namessplit[i])), show_bboxes = True)\n",
    "    target_classes = instance_seg.select_target_classes(boat = True)\n",
    "    \n",
    "    segmask, output = instance_seg.segmentImage(image_path, show_bboxes=True, segment_target_classes = target_classes, output_image_name=(\"mask/{}.jpg\".format(namessplit[i])))\n",
    "    #output, segmask = instance_seg.segmentAsPascalvoc(image_path)\n",
    "    #print(segmask['class_ids'])\n",
    "    #print(segmask['rois'])\n",
    "    #print(segmask['scores'])\n",
    "    #cv2.imwrite((\"teste/{}.jpg\".format(namessplit[i])), output)\n",
    "    #print(output.shape)\n",
    "    "
   ]
  },
  {
   "cell_type": "code",
   "execution_count": 8,
   "id": "be7c7ebb",
   "metadata": {},
   "outputs": [
    {
     "name": "stdout",
     "output_type": "stream",
     "text": [
      "Average time per image:  3.234545636177063\n",
      "Frames per second:  0.30916243345445843\n",
      "Total time spent for 10 images:  0.5390909393628438\n"
     ]
    }
   ],
   "source": [
    "end = time.time()\n",
    "average_time_per_image = (end - start) / len(TEST_IMAGES)\n",
    "print(\"Average time per image: \", average_time_per_image)\n",
    "print(\"Frames per second: \", 1 / average_time_per_image)\n",
    "# correct times. First image is warming up so it is not counting\n",
    "print(\"Total time spent for \" + str(len(TEST_IMAGES))+\" images: \", (end - start)/60)"
   ]
  },
  {
   "cell_type": "code",
   "execution_count": 9,
   "id": "60f556b1",
   "metadata": {},
   "outputs": [
    {
     "data": {
      "text/plain": [
       "True"
      ]
     },
     "execution_count": 9,
     "metadata": {},
     "output_type": "execute_result"
    }
   ],
   "source": [
    "cv2.imwrite(\"teste/Eduardoteste/teste.jpg\", output)"
   ]
  },
  {
   "cell_type": "code",
   "execution_count": null,
   "id": "eb68f84c",
   "metadata": {},
   "outputs": [],
   "source": []
  }
 ],
 "metadata": {
  "kernelspec": {
   "display_name": "Python 3",
   "language": "python",
   "name": "python3"
  },
  "language_info": {
   "codemirror_mode": {
    "name": "ipython",
    "version": 3
   },
   "file_extension": ".py",
   "mimetype": "text/x-python",
   "name": "python",
   "nbconvert_exporter": "python",
   "pygments_lexer": "ipython3",
   "version": "3.6.13"
  }
 },
 "nbformat": 4,
 "nbformat_minor": 5
}
