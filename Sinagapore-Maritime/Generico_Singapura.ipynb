{
 "cells": [
  {
   "cell_type": "code",
   "execution_count": 1,
   "metadata": {},
   "outputs": [],
   "source": [
    "from distutils.version import StrictVersion\n",
    "import numpy as np\n",
    "import os\n",
    "import six.moves.urllib as urllib\n",
    "import sys\n",
    "import tarfile\n",
    "import tensorflow as tf\n",
    "import zipfile\n",
    "import time\n",
    "import imageio\n",
    "\n",
    "from collections import defaultdict\n",
    "from io import StringIO\n",
    "from matplotlib import pyplot as plt\n",
    "from PIL import Image\n",
    "from tensorflow.compat.v1.keras import backend as K\n",
    "\n",
    "# This is needed since the notebook is stored in the object_detection folder.\n",
    "sys.path.append(\"..\")\n",
    "from object_detection.utils import ops as utils_ops\n",
    "\n",
    "if StrictVersion(tf.__version__) < StrictVersion('1.9.0'):\n",
    "    raise ImportError('Please upgrade your TensorFlow installation to v1.9.* or later!')"
   ]
  },
  {
   "cell_type": "code",
   "execution_count": 2,
   "metadata": {},
   "outputs": [],
   "source": [
    "os.environ[\"CUDA_DEVICE_ORDER\"]=\"PCI_BUS_ID\"\n",
    "os.environ[\"CUDA_VISIBLE_DEVICES\"]=\"0\"\n",
    "#os.environ[\"CUDA_VISIBLE_DEVICES\"]=\"0\""
   ]
  },
  {
   "cell_type": "code",
   "execution_count": 3,
   "metadata": {},
   "outputs": [],
   "source": [
    "# TensorFlow wizardry\n",
    "config = tf.compat.v1.ConfigProto()\n",
    " \n",
    "# Don't pre-allocate memory; allocate as-needed\n",
    "config.gpu_options.allow_growth = True\n",
    " \n",
    "# Only allow a total of all the GPU memory to be allocated\n",
    "#config.gpu_options.per_process_gpu_memory_fraction = 1.0\n",
    " \n",
    "# Create a session with the above options specified.\n",
    "K.set_session(tf.compat.v1.Session(config=config))\n",
    "#keras.backend.tensorflow_backend.set_session(tf.Session(config=config))"
   ]
  },
  {
   "cell_type": "code",
   "execution_count": 4,
   "metadata": {},
   "outputs": [],
   "source": [
    "# This is needed to display the images.\n",
    "%matplotlib inline"
   ]
  },
  {
   "cell_type": "code",
   "execution_count": 5,
   "metadata": {},
   "outputs": [],
   "source": [
    "from utils import label_map_util\n",
    "\n",
    "from utils import visualization_utils as vis_util"
   ]
  },
  {
   "cell_type": "code",
   "execution_count": 6,
   "metadata": {},
   "outputs": [],
   "source": [
    "# Path to frozen detection graph. This is the actual model that is used for the object detection.\n",
    "PATH_TO_FROZEN_GRAPH = 'C:/Users/cdghub/Desktop/Beatriz/train/ssd_mobilenet_v1_fpn_shared_box_predictor_640x640_smd_2_2019_01_29' + '/frozen_inference_graph.pb'\n",
    "\n",
    "# List of the strings that is used to add correct label for each box.\n",
    "PATH_TO_LABELS = 'C:/Users/cdghub/Desktop/Beatriz/train/label_map' + '/label_map.pbtxt'\n",
    "\n",
    "NUM_CLASSES = 10"
   ]
  },
  {
   "cell_type": "code",
   "execution_count": 7,
   "metadata": {},
   "outputs": [],
   "source": [
    "detection_graph = tf.Graph()\n",
    "with detection_graph.as_default():\n",
    "    od_graph_def = tf.compat.v1.GraphDef()\n",
    "    with tf.compat.v1.gfile.GFile(PATH_TO_FROZEN_GRAPH, 'rb') as fid:\n",
    "        serialized_graph = fid.read()\n",
    "        od_graph_def.ParseFromString(serialized_graph)\n",
    "        tf.import_graph_def(od_graph_def, name='')"
   ]
  },
  {
   "cell_type": "code",
   "execution_count": 8,
   "metadata": {},
   "outputs": [],
   "source": [
    "label_map = label_map_util.load_labelmap(PATH_TO_LABELS)\n",
    "categories = label_map_util.convert_label_map_to_categories(label_map, max_num_classes=NUM_CLASSES, use_display_name=True)\n",
    "category_index = label_map_util.create_category_index(categories)"
   ]
  },
  {
   "cell_type": "code",
   "execution_count": 9,
   "metadata": {},
   "outputs": [],
   "source": [
    "def load_image_into_numpy_array(image):\n",
    "    (im_width, im_height) = image.size\n",
    "    return np.array(image.getdata()).reshape(\n",
    "    (im_height, im_width, 3)).astype(np.uint8)"
   ]
  },
  {
   "cell_type": "code",
   "execution_count": 10,
   "metadata": {},
   "outputs": [
    {
     "name": "stdout",
     "output_type": "stream",
     "text": [
      "5000\n"
     ]
    }
   ],
   "source": [
    "from tkinter import Tcl\n",
    "PATH_TO_TEST_IMAGES_DIR = 'D:/Classes/test'\n",
    "x = os.listdir(PATH_TO_TEST_IMAGES_DIR)\n",
    "sort = Tcl().call('lsort', '-dict', x)\n",
    "TEST_IMAGES = [os.path.join(PATH_TO_TEST_IMAGES_DIR ,img) for img in (sort)]\n",
    "\n",
    "n = 0\n",
    "# select only 50 for testing time!\n",
    "TEST_IMAGES = TEST_IMAGES[0+n:5000]\n",
    "print(len(TEST_IMAGES))\n",
    "\n",
    "# Size, in inches, of the output images.\n",
    "IMAGE_SIZE = (12, 8)\n",
    "namessplit=[]\n",
    "\n",
    "for i in range(0,len(TEST_IMAGES)):\n",
    "    namessplit.append((sort[i+n].split('.'))[0])   \n",
    "    \n",
    "    "
   ]
  },
  {
   "cell_type": "code",
   "execution_count": 11,
   "metadata": {},
   "outputs": [],
   "source": [
    "def run_inference_for_single_image(image, graph):\n",
    "    with graph.as_default():\n",
    "        with tf.compat.v1.Session() as sess:\n",
    "        # Get handles to input and output tensors\n",
    "            ops = tf.compat.v1.get_default_graph().get_operations()\n",
    "            all_tensor_names = {output.name for op in ops for output in op.outputs}\n",
    "            tensor_dict = {}\n",
    "            for key in [\n",
    "              'num_detections', 'detection_boxes', 'detection_scores',\n",
    "              'detection_classes', 'detection_masks'\n",
    "              ]:\n",
    "                tensor_name = key + ':0'\n",
    "                if tensor_name in all_tensor_names:\n",
    "                    tensor_dict[key] = tf.compat.v1.get_default_graph().get_tensor_by_name(\n",
    "                    tensor_name)\n",
    "            if 'detection_masks' in tensor_dict:\n",
    "                # The following processing is only for single image\n",
    "                detection_boxes = tf.squeeze(tensor_dict['detection_boxes'], [0])\n",
    "                detection_masks = tf.squeeze(tensor_dict['detection_masks'], [0])\n",
    "                # Reframe is required to translate mask from box coordinates to image coordinates and fit the image size.\n",
    "                real_num_detection = tf.cast(tensor_dict['num_detections'][0], tf.int32)\n",
    "                detection_boxes = tf.slice(detection_boxes, [0, 0], [real_num_detection, -1])\n",
    "                detection_masks = tf.slice(detection_masks, [0, 0, 0], [real_num_detection, -1, -1])\n",
    "                detection_masks_reframed = utils_ops.reframe_box_masks_to_image_masks(\n",
    "                detection_masks, detection_boxes, image.shape[0], image.shape[1])\n",
    "                detection_masks_reframed = tf.cast(\n",
    "                    tf.greater(detection_masks_reframed, 0.5), tf.uint8)\n",
    "                # Follow the convention by adding back the batch dimension\n",
    "                tensor_dict['detection_masks'] = tf.expand_dims(\n",
    "                    detection_masks_reframed, 0)\n",
    "            image_tensor = tf.compat.v1.get_default_graph().get_tensor_by_name('image_tensor:0')\n",
    "\n",
    "            # Run inference\n",
    "            output_dict = sess.run(tensor_dict,\n",
    "                            feed_dict={image_tensor: np.expand_dims(image, 0)})\n",
    "\n",
    "            # all outputs are float32 numpy arrays, so convert types as appropriate\n",
    "            output_dict['num_detections'] = int(output_dict['num_detections'][0])\n",
    "            output_dict['detection_classes'] = output_dict[\n",
    "                'detection_classes'][0].astype(np.uint8)\n",
    "            output_dict['detection_boxes'] = output_dict['detection_boxes'][0]\n",
    "            output_dict['detection_scores'] = output_dict['detection_scores'][0]\n",
    "            if 'detection_masks' in output_dict:\n",
    "                output_dict['detection_masks'] = output_dict['detection_masks'][0]\n",
    "    return output_dict"
   ]
  },
  {
   "cell_type": "code",
   "execution_count": 12,
   "metadata": {},
   "outputs": [],
   "source": [
    "import shutil\n",
    "from os import listdir\n",
    "from os.path import isfile, join, basename\n",
    "\n",
    "\n",
    "def move(path_origem, path_destino, ext='zip'):\n",
    "    for item in [join(path_origem, f) for f in listdir(path_origem) if isfile(join(path_origem, f)) and f.endswith(ext)]:\n",
    "        #print(item)\n",
    "        shutil.move(item, join(path_destino, basename(item)))\n",
    "        print('moved \"{}\" -> \"{}\"'.format(item, join(path_destino, basename(item))))"
   ]
  },
  {
   "cell_type": "code",
   "execution_count": 13,
   "metadata": {},
   "outputs": [
    {
     "name": "stdout",
     "output_type": "stream",
     "text": [
      "loaded images\n",
      "Average time per image:  2.6390647360801696\n",
      "Frames per second:  0.3789221182521314\n",
      "Total time spent for 5000 images:  219.92206134001415\n"
     ]
    }
   ],
   "source": [
    "# load images\n",
    "images = []\n",
    "start = time.time()\n",
    "for i, image_path in enumerate(TEST_IMAGES):\n",
    "    image = Image.open(image_path)\n",
    "  # the array based representation of the image will be used later in order to prepare the\n",
    "  # result image with boxes and labels on it.\n",
    "    image_np = load_image_into_numpy_array(image)    \n",
    "#   # Expand dimensions since the model expects images to have shape: [1, None, None, 3]\n",
    "    image_np_expanded = np.expand_dims(image_np, axis=0)\n",
    "    \n",
    "    output_dict =run_inference_for_single_image(image_np, detection_graph)\n",
    "    \n",
    "    #images.append(image_np)\n",
    "    vis_util.visualize_boxes_and_labels_on_image_array(\n",
    "               image_np,\n",
    "               output_dict['detection_boxes'],\n",
    "               output_dict['detection_classes'],\n",
    "               output_dict['detection_scores'],\n",
    "               category_index,\n",
    "               instance_masks=output_dict.get('detection_masks'),\n",
    "               use_normalized_coordinates=True, #\n",
    "               line_thickness=2)\n",
    "    # This is the way I'm getting my coordinates\n",
    "    #boxes = output_dict['detection_boxes']\n",
    "    # get all boxes from an array\n",
    "    #max_boxes_to_draw = boxes.shape[0]\n",
    "    # get scores to get a threshold\n",
    "    #scores = output_dict['detection_scores']\n",
    "    # this is set as a default but feel free to adjust it to your needs\n",
    "    #min_score_thresh=.4\n",
    "    # generate txt files with object coordinates in the image and classification\n",
    "    #f= open(\"teste/{}.txt\".format((namessplit[i])),\"w+\")\n",
    "    #List = []\n",
    "    #coord = []\n",
    "    #for j in range(min(max_boxes_to_draw, boxes.shape[0])):\n",
    "        # \n",
    "     #   if scores[j] > min_score_thresh:\n",
    "      #      #min_score_thresh = scores[j]\n",
    "       #     # boxes[i] is the box which will be drawn\n",
    "         #   class_name = category_index[output_dict['detection_classes'][j]]['name']\n",
    "            #This is the number of the class\n",
    "           # f.write(\"5 \")\n",
    "            #for x in (boxes[j]):\n",
    "                #List.append(x)\n",
    "\n",
    "            #coordinates transformation\n",
    "            #W = List[3] - List[1]\n",
    "            #H = List[2] - List[0]\n",
    "            #x1 = List[1] + (W/2)\n",
    "            #y1 = List[2] - (H/2)\n",
    "            #coord = [x1, y1, W, H]\n",
    "            \n",
    "            #for y in (coord):\n",
    "\n",
    "                #f.write(str(y) + \" \")\n",
    "                \n",
    "            #f.write(str(scores[j]))\n",
    "            #f.write(\"\\n\") \n",
    "            #List.clear()\n",
    "        \n",
    "    #f.close() \n",
    "    #filesize = os.path.getsize(\"teste/{}.txt\".format((namessplit[i])))\n",
    "    #This exclude images with no object found (txt size = 0)\n",
    "    #if filesize == 0:\n",
    "        #shutil.move((\"teste/{}.txt\".format((namessplit[i]))),(\"teste/del/{}.txt\".format((namessplit[i]))))\n",
    "        #shutil.move((\"D:/Classes/Fishing/Fishing/{}.jpg\"((namessplit[i]))),(\"faster_rcnn_inception_v2_smd/del/{}.jpg\".format((namessplit[i]))))\n",
    "    #else:        \n",
    "        #plt.figure(figsize=IMAGE_SIZE)\n",
    "        #plt.imshow(image_np)\n",
    "        #plt.savefig(\"teste/{}.png\".format((namessplit[i])))\n",
    "        \n",
    "\n",
    "    i=i+1\n",
    "\n",
    "print(\"loaded images\")\n",
    "end = time.time()\n",
    "average_time_per_image = (end - start) / len(TEST_IMAGES)\n",
    "print(\"Average time per image: \", average_time_per_image)\n",
    "print(\"Frames per second: \", 1 / average_time_per_image)\n",
    "# correct times. First image is warming up so it is not counting\n",
    "print(\"Total time spent for \" + str(len(TEST_IMAGES))+\" images: \", (end - start)/60)"
   ]
  },
  {
   "cell_type": "code",
   "execution_count": null,
   "metadata": {},
   "outputs": [],
   "source": []
  }
 ],
 "metadata": {
  "kernelspec": {
   "display_name": "Python 3 (ipykernel)",
   "language": "python",
   "name": "python3"
  },
  "language_info": {
   "codemirror_mode": {
    "name": "ipython",
    "version": 3
   },
   "file_extension": ".py",
   "mimetype": "text/x-python",
   "name": "python",
   "nbconvert_exporter": "python",
   "pygments_lexer": "ipython3",
   "version": "3.7.11"
  }
 },
 "nbformat": 4,
 "nbformat_minor": 4
}
